{
 "cells": [
  {
   "cell_type": "markdown",
   "metadata": {},
   "source": [
    "# Bubble Sort"
   ]
  },
  {
   "cell_type": "code",
   "execution_count": 10,
   "metadata": {},
   "outputs": [],
   "source": [
    "def bubble_sort(l):\n",
    "    swap = False\n",
    "    while not swap:\n",
    "        swap = True\n",
    "        print('bubble sort:', str(l))\n",
    "        for i in range(1,len(l)):\n",
    "            if l[i-1]> l[i]:\n",
    "                swap = False\n",
    "                l[i-1], l[i] = l[i], l[i-1]\n",
    "    return l"
   ]
  },
  {
   "cell_type": "code",
   "execution_count": 12,
   "metadata": {},
   "outputs": [
    {
     "name": "stdout",
     "output_type": "stream",
     "text": [
      "bubble sort: [23, 56, 78, 34, 12, 5, 20, 54]\n",
      "bubble sort: [23, 56, 34, 12, 5, 20, 54, 78]\n",
      "bubble sort: [23, 34, 12, 5, 20, 54, 56, 78]\n",
      "bubble sort: [23, 12, 5, 20, 34, 54, 56, 78]\n",
      "bubble sort: [12, 5, 20, 23, 34, 54, 56, 78]\n",
      "bubble sort: [5, 12, 20, 23, 34, 54, 56, 78]\n",
      "[5, 12, 20, 23, 34, 54, 56, 78]\n"
     ]
    }
   ],
   "source": [
    "l = [23, 56, 78, 34, 12, 5, 20, 54]\n",
    "print(bubble_sort(l))\n"
   ]
  },
  {
   "cell_type": "code",
   "execution_count": null,
   "metadata": {},
   "outputs": [],
   "source": []
  }
 ],
 "metadata": {
  "kernelspec": {
   "display_name": "Python 3",
   "language": "python",
   "name": "python3"
  },
  "language_info": {
   "codemirror_mode": {
    "name": "ipython",
    "version": 3
   },
   "file_extension": ".py",
   "mimetype": "text/x-python",
   "name": "python",
   "nbconvert_exporter": "python",
   "pygments_lexer": "ipython3",
   "version": "3.7.3"
  }
 },
 "nbformat": 4,
 "nbformat_minor": 2
}
